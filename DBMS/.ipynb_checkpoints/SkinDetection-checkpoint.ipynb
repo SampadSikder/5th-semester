{
 "cells": [
  {
   "cell_type": "code",
   "execution_count": 8,
   "id": "541d57b1",
   "metadata": {},
   "outputs": [],
   "source": [
    "import imageio.v2 as imageio\n",
    "import ipyplot"
   ]
  },
  {
   "cell_type": "code",
   "execution_count": 9,
   "id": "df0ef50d",
   "metadata": {},
   "outputs": [],
   "source": [
    "a = 256\n",
    "b = 256\n",
    "c = 256\n",
    "\n",
    "skin_array = [[ [0 for col in range(a)] for col in range(b)] for row in range(c)]"
   ]
  },
  {
   "cell_type": "code",
   "execution_count": 10,
   "id": "5cd6645c",
   "metadata": {},
   "outputs": [],
   "source": [
    "nonskin_array = [[ [0 for col in range(a)] for col in range(b)] for row in range(c)]"
   ]
  },
  {
   "cell_type": "code",
   "execution_count": 11,
   "id": "0237452b",
   "metadata": {},
   "outputs": [],
   "source": [
    "import os\n"
   ]
  },
  {
   "cell_type": "code",
   "execution_count": 12,
   "id": "7970e5c6",
   "metadata": {},
   "outputs": [],
   "source": [
    "basepath = \"ibtd\"\n",
    "for filename in os.listdir(basepath):\n",
    "    if filename==\"0100.jpg\":\n",
    "      break\n",
    "    if filename.endswith(\".jpg\"): \n",
    "        unmask_img_name=os.path.join(basepath, filename)\n",
    "        unmask_img = imageio.imread(unmask_img_name)\n",
    "        height, width, channels = unmask_img.shape\n",
    "        for x in range(height):\n",
    "          for y in range(width):\n",
    "            b = unmask_img[x][y][0] \n",
    "            g = unmask_img[x][y][1]\n",
    "            r = unmask_img[x][y][2]\n",
    "            skin_array[r][g][b] = skin_array[r][g][b] + 1"
   ]
  },
  {
   "cell_type": "code",
   "execution_count": 14,
   "id": "f2174391",
   "metadata": {},
   "outputs": [],
   "source": [
    "basepath = \"ibtd/Mask\"\n",
    "for filename in os.listdir(basepath):\n",
    "    if filename==\"0100.jpg\":\n",
    "      break\n",
    "    if filename.endswith(\".bmp\"): \n",
    "        mask_img_name=os.path.join(basepath, filename)\n",
    "        mask_img = imageio.imread(unmask_img_name)\n",
    "        height, width, channels = mask_img.shape\n",
    "        for x in range(height):\n",
    "          for y in range(width):\n",
    "            b = mask_img[x][y][0] \n",
    "            g = mask_img[x][y][1]\n",
    "            r = mask_img[x][y][2]\n",
    "            nonskin_array[r][g][b] = nonskin_array[r][g][b] + 1"
   ]
  },
  {
   "cell_type": "code",
   "execution_count": 15,
   "id": "1dfddcb4",
   "metadata": {},
   "outputs": [],
   "source": [
    "sum_skin=0\n",
    "sum_nonskin=0\n",
    "\n",
    "for x in range(256):\n",
    "  for y in range(256):\n",
    "    sum_skin=sum_skin+sum(skin_array[x][y])\n",
    "    sum_nonskin=sum_nonskin+sum(nonskin_array[x][y])"
   ]
  },
  {
   "cell_type": "code",
   "execution_count": 16,
   "id": "2b9572da",
   "metadata": {},
   "outputs": [],
   "source": [
    "a = 256\n",
    "b = 256\n",
    "c = 256\n",
    "p_array = [[ [0 for col in range(a)] for col in range(b)] for row in range(c)]\n",
    "print\n",
    "for x in range(256):\n",
    "  for y in range(256):\n",
    "    for z in range(256):\n",
    "      skin_array[x][y][z] = skin_array[x][y][z] / sum_skin\n",
    "      nonskin_array[x][y][z] = nonskin_array[x][y][z] / sum_nonskin\n",
    "      if skin_array[x][y][z] != 0:\n",
    "        p_array[x][y][z] = nonskin_array[x][y][z] / skin_array[x][y][z] #ulta koris bhule\n",
    "      else:\n",
    "        p_array[x][y][z]=0"
   ]
  },
  {
   "cell_type": "code",
   "execution_count": null,
   "id": "5d0e66dc",
   "metadata": {},
   "outputs": [],
   "source": [
    "test_img = imageio.imread('ibtd/0294.jpg')\n",
    "T = 0.4\n",
    "height, width, channels = test_img.shape\n",
    "for x in range(height):\n",
    "  for y in range(width):\n",
    "    b=test_img[x][y][0]\n",
    "    g=test_img[x][y][1]\n",
    "    r=test_img[x][y][2]\n",
    "\n",
    "    if p_array[r][g][b] < T:\n",
    "      # mask image\n",
    "      test_img[x][y][0] = 255\n",
    "      test_img[x][y][1] = 255\n",
    "      test_img[x][y][2] = 255"
   ]
  }
 ],
 "metadata": {
  "kernelspec": {
   "display_name": "Python 3 (ipykernel)",
   "language": "python",
   "name": "python3"
  },
  "language_info": {
   "codemirror_mode": {
    "name": "ipython",
    "version": 3
   },
   "file_extension": ".py",
   "mimetype": "text/x-python",
   "name": "python",
   "nbconvert_exporter": "python",
   "pygments_lexer": "ipython3",
   "version": "3.8.10"
  }
 },
 "nbformat": 4,
 "nbformat_minor": 5
}
